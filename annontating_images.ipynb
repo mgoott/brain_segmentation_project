{
 "cells": [
  {
   "cell_type": "code",
   "execution_count": 60,
   "id": "50b39148",
   "metadata": {},
   "outputs": [],
   "source": [
    "import pandas as pd\n",
    "import numpy as np\n",
    "from matplotlib import pyplot as plt\n",
    "from PIL import Image, ImageDraw, ImageFilter\n",
    "import json\n",
    "import csv\n",
    "#import pydicom  # Install pydicom,  https://pydicom.github.io/pydicom/stable/tutorials/installation.html \n",
    "#from pydicom.data import get_testdata_files"
   ]
  },
  {
   "cell_type": "code",
   "execution_count": 87,
   "id": "01bde001",
   "metadata": {},
   "outputs": [],
   "source": [
    "im = Image.open('/Users/dev/Downloads/epidural/brain_window/ID_0237b835f.jpg')\n",
    "coords_lists = None;\n",
    "with open('/Users/dev/Downloads/MATH4570/Project/Hemorrhage Segmentation Project/Results_Epidural Hemorrhage Detection_2020-11-16_21.31.26.148.csv') as csv_file:\n",
    "    data_reader = csv.reader(csv_file, dialect='excel')\n",
    "    for index, row in enumerate(data_reader):\n",
    "        if index == 2:\n",
    "            coords_lists = json.loads(row[4].replace(\"'[\", \"[\").replace(\"]'\", \"],\").replace(',]', ']'))\n",
    "            break\n",
    "actual_coord_list = []\n",
    "for coord_list in coords_lists:\n",
    "    for coord in coord_list:\n",
    "        actual_coord_list.append((coord[\"x\"] * im.size[0], coord[\"y\"] * im.size[1]))\n",
    "draw = ImageDraw.Draw(im)\n",
    "draw.line(actual_coord_list, fill='red')\n",
    "im.show()"
   ]
  }
 ],
 "metadata": {
  "kernelspec": {
   "display_name": "Python 3",
   "language": "python",
   "name": "python3"
  },
  "language_info": {
   "codemirror_mode": {
    "name": "ipython",
    "version": 3
   },
   "file_extension": ".py",
   "mimetype": "text/x-python",
   "name": "python",
   "nbconvert_exporter": "python",
   "pygments_lexer": "ipython3",
   "version": "3.8.8"
  }
 },
 "nbformat": 4,
 "nbformat_minor": 5
}
