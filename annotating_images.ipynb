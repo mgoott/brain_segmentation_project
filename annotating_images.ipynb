{
 "cells": [
  {
   "cell_type": "code",
   "execution_count": 1,
   "id": "50b39148",
   "metadata": {},
   "outputs": [],
   "source": [
    "import pandas as pd\n",
    "import numpy as np\n",
    "from matplotlib import pyplot as plt\n",
    "from PIL import Image, ImageDraw, ImageFilter\n",
    "import json\n",
    "import csv"
   ]
  },
  {
   "cell_type": "code",
   "execution_count": 2,
   "id": "8933fcce",
   "metadata": {},
   "outputs": [],
   "source": [
    "epidural_csv_file = 'segmentations/Results_Epidural Hemorrhage Detection_2020-11-16_21.31.26.148.csv'\n",
    "epidural_image_repo = 'epidural/max_contrast_window'\n",
    "epidural_image_file = 'ID_004c4b319.jpg'"
   ]
  },
  {
   "cell_type": "code",
   "execution_count": 3,
   "id": "125306b4",
   "metadata": {},
   "outputs": [],
   "source": [
    "def get_coords(image, image_csv_file, image_file_name):\n",
    "    labels = get_labels_csv(image_csv_file, image_file_name)\n",
    "    coord_list = []\n",
    "    for label in labels:\n",
    "        coord = (label['x'] * image.size[0], label['y'] * image.size[1])\n",
    "        coord_list.append(coord)\n",
    "    return coord_list\n",
    "def get_labels_csv(image_csv_file, image_file_name):\n",
    "    with open(image_csv_file) as csv_file:\n",
    "        data_reader = csv.reader(csv_file, dialect='excel')\n",
    "        for row in data_reader:\n",
    "            if row[1] == image_file_name:\n",
    "                return json.loads(row[7])\n",
    "    return None"
   ]
  },
  {
   "cell_type": "code",
   "execution_count": 26,
   "id": "4015b6be",
   "metadata": {},
   "outputs": [],
   "source": [
    "im = Image.open(f'{epidural_image_repo}/{epidural_image_file}')\n",
    "features = []\n",
    "for x in range(im.size[0]):\n",
    "    for y in range(20):\n",
    "        features.append(im.getpixel((x, y))[0])\n",
    "        features.append(im.getpixel((x, y))[1])\n",
    "        features.append(im.getpixel((x, y))[2])\n",
    "draw = ImageDraw.Draw(im)\n",
    "draw.line(get_coords(im, epidural_csv_file, epidural_image_file), fill='red')\n",
    "im.show()"
   ]
  },
  {
   "cell_type": "code",
   "execution_count": 87,
   "id": "01bde001",
   "metadata": {},
   "outputs": [],
   "source": [
    "# the line of code below loads the 'all labels' field in the csv file in json\n",
    "# coords_lists = json.loads(row[4].replace(\"'[\", \"[\").replace(\"]'\", \"],\").replace(',]', ']'))"
   ]
  }
 ],
 "metadata": {
  "kernelspec": {
   "display_name": "Python 3",
   "language": "python",
   "name": "python3"
  },
  "language_info": {
   "codemirror_mode": {
    "name": "ipython",
    "version": 3
   },
   "file_extension": ".py",
   "mimetype": "text/x-python",
   "name": "python",
   "nbconvert_exporter": "python",
   "pygments_lexer": "ipython3",
   "version": "3.8.8"
  }
 },
 "nbformat": 4,
 "nbformat_minor": 5
}
